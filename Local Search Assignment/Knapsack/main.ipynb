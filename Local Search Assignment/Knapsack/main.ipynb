{
 "cells": [
  {
   "cell_type": "code",
   "execution_count": 1,
   "metadata": {},
   "outputs": [],
   "source": [
    "from LocalSearch import LocalSearch"
   ]
  },
  {
   "cell_type": "code",
   "execution_count": 2,
   "metadata": {},
   "outputs": [],
   "source": [
    "filename = \"hillclimb.txt\"\n",
    "ls = LocalSearch(filename=filename)"
   ]
  },
  {
   "cell_type": "code",
   "execution_count": 3,
   "metadata": {},
   "outputs": [],
   "source": [
    "# random_sol = ls.get_random_sol()\n",
    "# print(random_sol)\n",
    "# print(ls.calc_tot_val(random_sol))\n",
    "# print(ls.calc_tot_weight(random_sol))"
   ]
  },
  {
   "cell_type": "code",
   "execution_count": 20,
   "metadata": {},
   "outputs": [
    {
     "name": "stdout",
     "output_type": "stream",
     "text": [
      "847 964.0\n",
      "[('laptop', 0), ('phone', 1), ('calculator', 0), ('book', 1), ('comb', 1), ('eyeglass', 1), ('ruler', 1), ('filledbottle', 1), ('mirror', 0), ('remote', 1), ('cable', 1), ('paper', 1), ('walkman', 0), ('radio', 0), ('earphone', 1), ('pen', 1), ('pencil', 1), ('socks', 1), ('jacket', 0), ('glove', 1)]\n"
     ]
    }
   ],
   "source": [
    "# hill climbing\n",
    "\n",
    "hc_soln = ls.hillClimbingSearch()\n",
    "soln_val = ls.calc_tot_val(hc_soln)\n",
    "soln_weight = ls.calc_tot_weight(hc_soln)\n",
    "print(soln_val, soln_weight)\n",
    "print(hc_soln)"
   ]
  },
  {
   "cell_type": "code",
   "execution_count": 10,
   "metadata": {},
   "outputs": [
    {
     "name": "stdout",
     "output_type": "stream",
     "text": [
      "[('laptop', 1), ('phone', 1), ('calculator', 0), ('book', 1), ('comb', 0), ('eyeglass', 0), ('ruler', 1), ('filledbottle', 0), ('mirror', 0), ('remote', 1), ('cable', 0), ('paper', 0), ('walkman', 0), ('radio', 0), ('earphone', 0), ('pen', 0), ('pencil', 0), ('socks', 1), ('jacket', 0), ('glove', 0)]\n",
      "[765, 1265, 427, 254, 254, 950, 366, 289, 281, 751, 766, 532, 532, 199, 139, 139, 139, 215, 844, 749, 687, 377, 948, 714, 750, 750, 750, 794, 907, 438, 740, 177, 177, 677, 677, 1070, 1540, 1601, 213, 270, 407, 382, 309, 809, 309, 411, 1149, 240, 760, 835, 248, 703, 703, 713, 713, 713, 738, 231, 410, 311, 329, 1210, 175, 346, 846, 262, 269, 371, 328, 328]\n",
      "better soln value: 1601\n",
      "better soln weight: 913.0\n"
     ]
    }
   ],
   "source": [
    "# simulated annealing part\n",
    "\n",
    "better_soln, history = ls.simulatedAnnealingSearch()\n",
    "better_soln_val = ls.calc_tot_val(better_soln)\n",
    "better_soln_weight = ls.calc_tot_weight(better_soln)\n",
    "print(better_soln)\n",
    "print(history)\n",
    "print(f'better soln value: {better_soln_val}')\n",
    "print(f'better soln weight: {better_soln_weight}')"
   ]
  },
  {
   "cell_type": "code",
   "execution_count": 16,
   "metadata": {},
   "outputs": [
    {
     "name": "stdout",
     "output_type": "stream",
     "text": [
      "1804\n",
      "[('laptop', 1), ('phone', 1), ('calculator', 0), ('book', 0), ('comb', 0), ('eyeglass', 1), ('ruler', 1), ('filledbottle', 0), ('mirror', 0), ('remote', 1), ('cable', 1), ('paper', 1), ('walkman', 0), ('radio', 0), ('earphone', 1), ('pen', 1), ('pencil', 0), ('socks', 0), ('jacket', 0), ('glove', 1)]\n",
      "1804\n"
     ]
    }
   ],
   "source": [
    "# GA solution\n",
    "\n",
    "ga_algo_soln_val, ga_algo_soln = ls.GA_search()\n",
    "print(ga_algo_soln)\n",
    "print(ga_algo_soln_val)"
   ]
  }
 ],
 "metadata": {
  "kernelspec": {
   "display_name": "Python 3.10.1 64-bit",
   "language": "python",
   "name": "python3"
  },
  "language_info": {
   "codemirror_mode": {
    "name": "ipython",
    "version": 3
   },
   "file_extension": ".py",
   "mimetype": "text/x-python",
   "name": "python",
   "nbconvert_exporter": "python",
   "pygments_lexer": "ipython3",
   "version": "3.10.1"
  },
  "orig_nbformat": 4,
  "vscode": {
   "interpreter": {
    "hash": "bb97735767c24405b584f9749248c7e384b522e23a4ff7b1c0fad57afd2d0c07"
   }
  }
 },
 "nbformat": 4,
 "nbformat_minor": 2
}
