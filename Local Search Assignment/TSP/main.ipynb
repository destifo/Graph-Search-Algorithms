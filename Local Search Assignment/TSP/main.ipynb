{
 "cells": [
  {
   "cell_type": "code",
   "execution_count": 13,
   "metadata": {},
   "outputs": [],
   "source": [
    "from LocalSearch2 import LocalSearch"
   ]
  },
  {
   "cell_type": "code",
   "execution_count": 14,
   "metadata": {},
   "outputs": [],
   "source": [
    "nodefilename = \"geoData.txt\"\n",
    "edgefilename = \"page82.txt\"\n",
    "ls = LocalSearch(nodefile=nodefilename, edgefile=edgefilename)"
   ]
  },
  {
   "cell_type": "code",
   "execution_count": 15,
   "metadata": {},
   "outputs": [],
   "source": [
    "# importing graph to variable\n",
    "\n",
    "city_graph = ls.graph"
   ]
  },
  {
   "cell_type": "code",
   "execution_count": 16,
   "metadata": {},
   "outputs": [
    {
     "name": "stdout",
     "output_type": "stream",
     "text": [
      "['Mehadia', 'Lugoj', 'Timisoara', 'Arad', 'Zerind', 'Oradea', 'Sibiu', 'Fagaras', 'Bucharest', 'Pitesti', 'Craiova', 'Drobeta', 'Mehadia', 'Drobeta', 'Craiova', 'Rimnicu Vilcea', 'Craiova', 'Pitesti', 'Bucharest', 'Giurgiu', 'Bucharest', 'Urziceni', 'Hirsova', 'Eforie', 'Hirsova', 'Urziceni', 'Vaslui', 'Iasi', 'Neamt']\n",
      "final solution fitness value: 0.0\n",
      "final solution path cost: 0\n"
     ]
    }
   ],
   "source": [
    "# TSP using hill climbing\n",
    "\n",
    "hc_sol = ls.hillClimbingSearch()\n",
    "print(hc_sol)\n",
    "hc_sol_cost = ls.fitness_function(hc_sol)\n",
    "print(\"final solution fitness value:\", hc_sol_cost)\n",
    "print(\"final solution path cost:\", ls.calc_tot_distance(hc_sol))\n",
    "# print(history)"
   ]
  },
  {
   "cell_type": "code",
   "execution_count": 17,
   "metadata": {},
   "outputs": [
    {
     "name": "stdout",
     "output_type": "stream",
     "text": [
      "['Bucharest', 'Fagaras', 'Sibiu', 'Oradea', 'Zerind', 'Arad', 'Timisoara', 'Lugoj', 'Mehadia', 'Drobeta', 'Craiova', 'Pitesti', 'Rimnicu Vilcea', 'Pitesti', 'Bucharest', 'Giurgiu', 'Bucharest', 'Urziceni', 'Hirsova', 'Eforie', 'Hirsova', 'Urziceni', 'Vaslui', 'Iasi', 'Neamt']\n",
      "\n",
      "history of the accepted propsed solution values: [0.0, 0.0, 0.0, 0.0, 0.0, 0.0, 0.0, 0.0, 0.0, 0.0, 0.0, 0.0, 0.0, 0.0, 0.0, 0.0, 0.0, 0.0, 0.0, 0.0, 0.0, 0.0, 0.0, 0.0, 0.0, 0.0, 0.0, 0.0, 0.0, 0.0, 0.0, 0.0, 0.0, 0.0, 0.0, 0.0, 0.0, 0.0, 0.0, 0.0, 0.0, 0.0, 0.0, 0.0, 0.0, 0.0, 0.0, 0.0, 0.0, 0.0, 0.0, 0.0, 0.0, 0.0, 0.0, 0.0, 0.0, 0.0, 0.0, 0.0, 0.0, 0.0, 0.0, 0.0, 0.0, 0.0, 0.0, 0.0, 0.0, 0.0]\n",
      "\n",
      "final solution fitness value: 0.0\n",
      "final solution path cost: 0\n"
     ]
    }
   ],
   "source": [
    "# Tsp with Simulated Annealing\n",
    "\n",
    "simulated_annealing_soln, history = ls.simulatedAnnealingSearch()\n",
    "fitness_val = ls.fitness_function(simulated_annealing_soln)\n",
    "soln_path_cost = ls.calc_tot_distance(simulated_annealing_soln)\n",
    "print(simulated_annealing_soln)\n",
    "print()\n",
    "print(\"history of the accepted propsed solution values:\", history)\n",
    "print()\n",
    "print(\"final solution fitness value:\", fitness_val)\n",
    "print(\"final solution path cost:\", ls.calc_tot_distance(hc_sol))"
   ]
  },
  {
   "cell_type": "code",
   "execution_count": 18,
   "metadata": {},
   "outputs": [
    {
     "name": "stdout",
     "output_type": "stream",
     "text": [
      "final GA solution fitness value: 0.0\n",
      "final GA solution path cost: 0\n",
      "['Oradea', 'Zerind', 'Oradea', 'Sibiu', 'Arad', 'Timisoara', 'Lugoj', 'Mehadia', 'Drobeta', 'Craiova', 'Pitesti', 'Rimnicu Vilcea', 'Pitesti', 'Craiova', 'Pitesti', 'Rimnicu Vilcea', 'Pitesti', 'Craiova', 'Drobeta', 'Lugoj', 'Timisoara', 'Arad', 'Zerind', 'Oradea', 'Sibiu', 'Fagaras', 'Bucharest', 'Giurgiu', 'Bucharest', 'Urziceni', 'Hirsova', 'Eforie', 'Hirsova', 'Urziceni', 'Vaslui', 'Iasi', 'Neamt']\n"
     ]
    }
   ],
   "source": [
    "# TSP with GA\n",
    "\n",
    "ga_soln_fitness, GA_soln = ls.GA_search()\n",
    "ga_soln_path_cost = ls.calc_tot_distance(GA_soln)\n",
    "print(\"final GA solution fitness value:\", fitness_val)\n",
    "print(\"final GA solution path cost:\", ga_soln_path_cost)\n",
    "print(GA_soln)\n"
   ]
  }
 ],
 "metadata": {
  "kernelspec": {
   "display_name": "Python 3.10.1 64-bit",
   "language": "python",
   "name": "python3"
  },
  "language_info": {
   "codemirror_mode": {
    "name": "ipython",
    "version": 3
   },
   "file_extension": ".py",
   "mimetype": "text/x-python",
   "name": "python",
   "nbconvert_exporter": "python",
   "pygments_lexer": "ipython3",
   "version": "3.10.1"
  },
  "orig_nbformat": 4,
  "vscode": {
   "interpreter": {
    "hash": "bb97735767c24405b584f9749248c7e384b522e23a4ff7b1c0fad57afd2d0c07"
   }
  }
 },
 "nbformat": 4,
 "nbformat_minor": 2
}
