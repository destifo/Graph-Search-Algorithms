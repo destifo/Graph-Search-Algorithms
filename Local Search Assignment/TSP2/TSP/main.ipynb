{
 "cells": [
  {
   "cell_type": "code",
   "execution_count": 1,
   "metadata": {},
   "outputs": [],
   "source": [
    "from LocalSearch2 import LocalSearch"
   ]
  },
  {
   "cell_type": "code",
   "execution_count": 2,
   "metadata": {},
   "outputs": [],
   "source": [
    "edgefilename = \"8nodeTsp.txt\"\n",
    "ls = LocalSearch(edgefile=edgefilename)"
   ]
  },
  {
   "cell_type": "code",
   "execution_count": 3,
   "metadata": {},
   "outputs": [],
   "source": [
    "# importing graph to variable\n",
    "\n",
    "city_graph = ls.graph"
   ]
  },
  {
   "cell_type": "code",
   "execution_count": 4,
   "metadata": {},
   "outputs": [
    {
     "name": "stdout",
     "output_type": "stream",
     "text": [
      "best soln updated with better val of: 67.5\n",
      "best soln updated with better val of: 57.5\n",
      "best soln updated with better val of: 57.5\n",
      "best soln updated with better val of: 53.75\n",
      "best soln updated with better val of: 53.75\n",
      "best soln updated with better val of: 53.75\n",
      "['C', 'C', 'B', 'A', 'H', 'G', 'E', 'D', 'F']\n",
      "final solution fitness value: 53.75\n",
      "final solution path cost: 43\n"
     ]
    }
   ],
   "source": [
    "# TSP using hill climbing\n",
    "\n",
    "hc_sol = ls.hillClimbingSearch()\n",
    "print(hc_sol)\n",
    "hc_sol_cost = ls.fitness_function(hc_sol)\n",
    "print(\"final solution fitness value:\", hc_sol_cost)\n",
    "print(\"final solution path cost:\", ls.calc_tot_distance(hc_sol))\n",
    "# print(history)"
   ]
  },
  {
   "cell_type": "code",
   "execution_count": 5,
   "metadata": {},
   "outputs": [
    {
     "name": "stdout",
     "output_type": "stream",
     "text": [
      "['F', 'G', 'H', 'A', 'B', 'C', 'D', 'E', 'F']\n",
      "\n",
      "history of the accepted propsed solution values: [63.75, 77.5, 67.5, 67.5, 67.5, 66.25, 63.75, 63.75, 63.75, 66.25, 73.75, 73.75, 63.75, 73.75, 77.5, 66.25, 66.25, 66.25, 67.5, 77.5, 77.5, 63.75, 63.75, 67.5, 66.25, 63.75, 63.75, 63.75, 63.75, 63.75, 63.75, 63.75, 63.75, 63.75, 63.75, 67.5, 63.75, 63.75, 63.75, 63.75, 63.75, 63.75, 63.75, 63.75, 63.75, 63.75, 63.75, 63.75, 63.75, 63.75, 63.75, 63.75, 63.75, 63.75, 63.75, 63.75, 63.75, 63.75, 63.75, 63.75, 63.75, 63.75, 63.75, 63.75, 63.75, 63.75, 63.75, 63.75, 63.75, 63.75]\n",
      "\n",
      "final solution fitness value: 63.75\n",
      "final solution path cost: 43\n"
     ]
    }
   ],
   "source": [
    "# Tsp with Simulated Annealing\n",
    "\n",
    "simulated_annealing_soln, history = ls.simulatedAnnealingSearch()\n",
    "fitness_val = ls.fitness_function(simulated_annealing_soln)\n",
    "soln_path_cost = ls.calc_tot_distance(simulated_annealing_soln)\n",
    "print(simulated_annealing_soln)\n",
    "print()\n",
    "print(\"history of the accepted propsed solution values:\", history)\n",
    "print()\n",
    "print(\"final solution fitness value:\", fitness_val)\n",
    "print(\"final solution path cost:\", ls.calc_tot_distance(hc_sol))"
   ]
  },
  {
   "cell_type": "code",
   "execution_count": 6,
   "metadata": {},
   "outputs": [
    {
     "name": "stdout",
     "output_type": "stream",
     "text": [
      "final GA solution fitness value: 63.75\n",
      "final GA solution path cost: 51\n",
      "['G', 'H', 'A', 'B', 'C', 'G', 'E', 'D', 'F']\n"
     ]
    }
   ],
   "source": [
    "# TSP with GA\n",
    "\n",
    "ga_soln_fitness, GA_soln = ls.GA_search()\n",
    "ga_soln_path_cost = ls.calc_tot_distance(GA_soln)\n",
    "print(\"final GA solution fitness value:\", fitness_val)\n",
    "print(\"final GA solution path cost:\", ga_soln_path_cost)\n",
    "print(GA_soln)\n"
   ]
  }
 ],
 "metadata": {
  "kernelspec": {
   "display_name": "Python 3.10.1 64-bit",
   "language": "python",
   "name": "python3"
  },
  "language_info": {
   "codemirror_mode": {
    "name": "ipython",
    "version": 3
   },
   "file_extension": ".py",
   "mimetype": "text/x-python",
   "name": "python",
   "nbconvert_exporter": "python",
   "pygments_lexer": "ipython3",
   "version": "3.10.1"
  },
  "orig_nbformat": 4,
  "vscode": {
   "interpreter": {
    "hash": "bb97735767c24405b584f9749248c7e384b522e23a4ff7b1c0fad57afd2d0c07"
   }
  }
 },
 "nbformat": 4,
 "nbformat_minor": 2
}
