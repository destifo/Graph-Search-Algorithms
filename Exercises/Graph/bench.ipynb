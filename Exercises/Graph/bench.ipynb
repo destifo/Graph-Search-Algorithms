{
 "cells": [
  {
   "cell_type": "code",
   "execution_count": 1,
   "metadata": {},
   "outputs": [],
   "source": [
    "# load imports\n",
    "import timeit\n",
    "import pandas as pd\n",
    "import time\n",
    "import matplotlib.pyplot as plt\n",
    "from Graph import Graph"
   ]
  },
  {
   "cell_type": "code",
   "execution_count": 2,
   "metadata": {},
   "outputs": [],
   "source": [
    "# load functions\n",
    "def importGraphEdges(filename, graph:Graph):\n",
    "    fh = open(filename)\n",
    "    for line in fh:\n",
    "        line = line.split(',')\n",
    "        graph.addEdge(line[0], line[1], int(line[2]))\n",
    "\n",
    "\n",
    "nodes_list = []\n",
    "def importGeoData(filename, graph:Graph):\n",
    "    geo_data = {} # {str:tuple}\n",
    "    fh = open(filename)\n",
    "    for line in fh:\n",
    "        line = line.rstrip()\n",
    "        line = line.split(',')\n",
    "        nodes_list.append(line[0])\n",
    "        graph.addNode(line[0])\n",
    "\n",
    "        geo_data[line[0]] = (line[1], line[2])\n",
    "\n",
    "    return geo_data\n",
    "\n",
    "# benchmark\n",
    "def benchFunction(graph:Graph):\n",
    "    bench_time = [[\"Dijkstra distance and Time\", \"BFS distance and Time\", \"DFS distance and Time\", \"A Star distance and Time\"]] # [[tuples:(dist, time)]]\n",
    "    n = len(nodes_list)\n",
    "    # print(n)\n",
    "    for i in range(n):\n",
    "        for j in range(i + 1, n):\n",
    "            nod1 = nodes_list[i]\n",
    "            nod2 = nodes_list[j]\n",
    "            round_time = []\n",
    "\n",
    "            start_time = time.perf_counter()\n",
    "            distance = graph.djikstraSearch(nod1, nod2)[0]\n",
    "            end_time = time.perf_counter()\n",
    "            round_time.append((distance, end_time - start_time))\n",
    "\n",
    "            start_time = time.perf_counter()\n",
    "            distance = graph.bfs(nod1, nod2)[0]\n",
    "            end_time = time.perf_counter()\n",
    "            round_time.append((distance, end_time - start_time))\n",
    "\n",
    "            start_time = time.perf_counter()\n",
    "            distance = graph.dfs(nod1, nod2)[0]\n",
    "            end_time = time.perf_counter()\n",
    "            round_time.append((distance, end_time - start_time))\n",
    "\n",
    "            h = graph.evalHeuristic(nod2, geo_data)\n",
    "            start_time = time.perf_counter()\n",
    "            distance = graph.aStarSearchOuterHeuristic(nod1, nod2, h)[0]\n",
    "            end_time = time.perf_counter()\n",
    "            round_time.append((distance, end_time - start_time))\n",
    "\n",
    "            bench_time.append(round_time)\n",
    "\n",
    "    return bench_time\n",
    "\n",
    "\n",
    "def col_sum(arr, col):\n",
    "    dist_sum, time_sum = 0, 0\n",
    "    for i in range(1, len(arr)):\n",
    "        dist_sum += arr[i][col][0]\n",
    "        time_sum += arr[i][col][1]\n",
    "\n",
    "    return (dist_sum, time_sum)\n",
    "\n",
    "\n",
    "bfs_avg_data = [] # [(avg_dist, avg_time)]\n",
    "dfs_avg_data = []\n",
    "djk_avg_data = []\n",
    "astar_avg_data = []\n",
    "def populateAvgDataOf(graph: Graph):\n",
    "    bench_data = None\n",
    "    for i in range(5):\n",
    "        bench_data = benchFunction(graph)\n",
    "        data_len = len(bench_data)\n",
    "        djk_sum = col_sum(bench_data, 0)\n",
    "        djk_avg_data.append((djk_sum[0]/data_len, djk_sum[1]/data_len))\n",
    "\n",
    "        bfs_sum = col_sum(bench_data, 1)\n",
    "        bfs_avg_data.append((bfs_sum[0]/data_len, bfs_sum[1]/data_len))\n",
    "\n",
    "        dfs_sum = col_sum(bench_data, 2)\n",
    "        dfs_avg_data.append((dfs_sum[0]/data_len, dfs_sum[1]/data_len))\n",
    "\n",
    "        astar_sum = col_sum(bench_data, 3)\n",
    "        astar_avg_data.append((astar_sum[0]/data_len, astar_sum[1]/data_len))\n",
    "\n",
    "    return bench_data\n",
    "\n",
    "\n",
    "def exportDataToExcel(data_list, excel_name):\n",
    "    writer = pd.ExcelWriter(excel_name)\n",
    "    data_df = pd.DataFrame(data_list)\n",
    "    data_df.to_excel(writer,index=False, sheet_name=excel_name[:-5])\n",
    "    writer.save()\n",
    "\n",
    "\n",
    "def plotBenchTime():\n",
    "    fig = plt.figure()\n",
    "    ax = fig.add_axes([0,0,1,1])\n",
    "    search_algos = ['BFS time', 'DFS time', 'Dijkstra time', 'a star time']\n",
    "    avg_time = [\n",
    "    sum([avg_data[1] for avg_data in bfs_avg_data]) / 5,\n",
    "    sum([avg_data[1] for avg_data in dfs_avg_data]) / 5,\n",
    "    sum([avg_data[1] for avg_data in djk_avg_data]) / 5,\n",
    "    sum([avg_data[1] for avg_data in astar_avg_data]) / 5\n",
    "    ]\n",
    "    ax.bar(search_algos, avg_time)\n",
    "    ax.set_title('Time benchmark results')\n",
    "    ax.set_xlabel('Search Algorithm')\n",
    "    ax.set_ylabel('Average time')\n",
    "    plt.show()\n",
    "\n",
    "\n",
    "def plotBenchDist():\n",
    "    search_algos = ['BFS distance', 'DFS distance', 'Dijkstra distance', 'a star distance']\n",
    "    avg_dist = [\n",
    "    sum([avg_data[0] for avg_data in bfs_avg_data]) / 5,\n",
    "    sum([avg_data[0] for avg_data in dfs_avg_data]) / 5,\n",
    "    sum([avg_data[0] for avg_data in djk_avg_data]) / 5,\n",
    "    sum([avg_data[0] for avg_data in astar_avg_data]) / 5\n",
    "    ]\n",
    "    plt.bar(search_algos, avg_dist)\n",
    "    plt.title('Average Distance benchmark results')\n",
    "    plt.xlabel('Search Algorithm')\n",
    "    plt.ylabel('Average Distance')\n",
    "    plt.show()"
   ]
  },
  {
   "cell_type": "code",
   "execution_count": 3,
   "metadata": {},
   "outputs": [],
   "source": [
    "# Question 2. the graph data from page 82(83) of the book is loaded, can be viewed using the method print within the graph\n",
    "mapGraph = Graph()\n",
    "geo_data = importGeoData('geoData.txt', mapGraph) # loads the nodes of the graph\n",
    "importGraphEdges('page82.txt', mapGraph)    # loads the edges of the graph"
   ]
  },
  {
   "cell_type": "code",
   "execution_count": 6,
   "metadata": {},
   "outputs": [
    {
     "data": {
      "image/png": "[encoded data removed]",
      "text/plain": [
       "<Figure size 432x288 with 1 Axes>"
      ]
     },
     "metadata": {
      "needs_background": "light"
     },
     "output_type": "display_data"
    }
   ],
   "source": [
    "# Benchmark part\n",
    "lastBenchData = populateAvgDataOf(mapGraph)\n",
    "# exportDataToExcel(lastBenchData, 'Benchmark.xlsx') # export one raw data of the time and distance of it takes the four search algorithms from each node to every node in the graph to excel\n",
    "plotBenchTime()"
   ]
  },
  {
   "cell_type": "code",
   "execution_count": 5,
   "metadata": {},
   "outputs": [
    {
     "data": {
      "image/png": "[encoded data removed]",
      "text/plain": [
       "<Figure size 432x288 with 1 Axes>"
      ]
     },
     "metadata": {
      "needs_background": "light"
     },
     "output_type": "display_data"
    }
   ],
   "source": [
    "plotBenchDist()"
   ]
  }
 ],
 "metadata": {
  "kernelspec": {
   "display_name": "Python 3.10.1 64-bit",
   "language": "python",
   "name": "python3"
  },
  "language_info": {
   "codemirror_mode": {
    "name": "ipython",
    "version": 3
   },
   "file_extension": ".py",
   "mimetype": "text/x-python",
   "name": "python",
   "nbconvert_exporter": "python",
   "pygments_lexer": "ipython3",
   "version": "3.10.1"
  },
  "orig_nbformat": 4,
  "vscode": {
   "interpreter": {
    "hash": "bb97735767c24405b584f9749248c7e384b522e23a4ff7b1c0fad57afd2d0c07"
   }
  }
 },
 "nbformat": 4,
 "nbformat_minor": 2
}
